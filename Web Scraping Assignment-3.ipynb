{
 "cells": [
  {
   "cell_type": "code",
   "execution_count": 1,
   "id": "1a7b503e",
   "metadata": {},
   "outputs": [
    {
     "name": "stdout",
     "output_type": "stream",
     "text": [
      "Requirement already satisfied: selenium in c:\\users\\hp\\anaconda3\\lib\\site-packages (4.17.2)\n",
      "Requirement already satisfied: urllib3[socks]<3,>=1.26 in c:\\users\\hp\\anaconda3\\lib\\site-packages (from selenium) (1.26.16)\n",
      "Requirement already satisfied: trio~=0.17 in c:\\users\\hp\\anaconda3\\lib\\site-packages (from selenium) (0.24.0)\n",
      "Requirement already satisfied: trio-websocket~=0.9 in c:\\users\\hp\\anaconda3\\lib\\site-packages (from selenium) (0.11.1)\n",
      "Requirement already satisfied: certifi>=2021.10.8 in c:\\users\\hp\\anaconda3\\lib\\site-packages (from selenium) (2023.5.7)\n",
      "Requirement already satisfied: typing_extensions>=4.9.0 in c:\\users\\hp\\anaconda3\\lib\\site-packages (from selenium) (4.9.0)\n",
      "Requirement already satisfied: attrs>=20.1.0 in c:\\users\\hp\\anaconda3\\lib\\site-packages (from trio~=0.17->selenium) (22.1.0)\n",
      "Requirement already satisfied: sortedcontainers in c:\\users\\hp\\anaconda3\\lib\\site-packages (from trio~=0.17->selenium) (2.4.0)\n",
      "Requirement already satisfied: idna in c:\\users\\hp\\anaconda3\\lib\\site-packages (from trio~=0.17->selenium) (3.4)\n",
      "Requirement already satisfied: outcome in c:\\users\\hp\\anaconda3\\lib\\site-packages (from trio~=0.17->selenium) (1.3.0.post0)\n",
      "Requirement already satisfied: sniffio>=1.3.0 in c:\\users\\hp\\anaconda3\\lib\\site-packages (from trio~=0.17->selenium) (1.3.0)\n",
      "Requirement already satisfied: cffi>=1.14 in c:\\users\\hp\\anaconda3\\lib\\site-packages (from trio~=0.17->selenium) (1.15.1)\n",
      "Requirement already satisfied: wsproto>=0.14 in c:\\users\\hp\\anaconda3\\lib\\site-packages (from trio-websocket~=0.9->selenium) (1.2.0)\n",
      "Requirement already satisfied: PySocks!=1.5.7,<2.0,>=1.5.6 in c:\\users\\hp\\anaconda3\\lib\\site-packages (from urllib3[socks]<3,>=1.26->selenium) (1.7.1)\n",
      "Requirement already satisfied: pycparser in c:\\users\\hp\\anaconda3\\lib\\site-packages (from cffi>=1.14->trio~=0.17->selenium) (2.21)\n",
      "Requirement already satisfied: h11<1,>=0.9.0 in c:\\users\\hp\\anaconda3\\lib\\site-packages (from wsproto>=0.14->trio-websocket~=0.9->selenium) (0.14.0)\n"
     ]
    }
   ],
   "source": [
    "!pip install selenium"
   ]
  },
  {
   "cell_type": "code",
   "execution_count": 2,
   "id": "e0101cf3",
   "metadata": {},
   "outputs": [],
   "source": [
    "import selenium\n",
    "import pandas as pd\n",
    "from selenium import webdriver\n",
    "import warnings\n",
    "warnings.filterwarnings\n",
    "from selenium.webdriver.common.by import By\n",
    "import time\n",
    "from bs4 import BeautifulSoup\n",
    "import requests\n",
    "import numpy as np\n",
    "import re\n",
    "import requests"
   ]
  },
  {
   "cell_type": "code",
   "execution_count": 3,
   "id": "d1c06fe1",
   "metadata": {},
   "outputs": [],
   "source": [
    "from selenium.common.exceptions import NoSuchElementException"
   ]
  },
  {
   "cell_type": "markdown",
   "id": "f5e50fde",
   "metadata": {},
   "source": [
    "# Q1 "
   ]
  },
  {
   "cell_type": "code",
   "execution_count": null,
   "id": "e67dbc37",
   "metadata": {},
   "outputs": [],
   "source": [
    "val=input(\"enter your item \")"
   ]
  },
  {
   "cell_type": "code",
   "execution_count": null,
   "id": "68dcbaf6",
   "metadata": {},
   "outputs": [],
   "source": []
  },
  {
   "cell_type": "code",
   "execution_count": null,
   "id": "068eae0f",
   "metadata": {},
   "outputs": [],
   "source": [
    "driver=webdriver.Chrome()\n",
    "driver.get(\"https://www.amazon.in/\")"
   ]
  },
  {
   "cell_type": "code",
   "execution_count": null,
   "id": "97ee2efc",
   "metadata": {},
   "outputs": [],
   "source": [
    "slct=driver.find_element(By.CLASS_NAME,\"nav-search-field\")\n",
    "slct.click()"
   ]
  },
  {
   "cell_type": "code",
   "execution_count": null,
   "id": "3a19215f",
   "metadata": {},
   "outputs": [],
   "source": [
    "srch = driver.find_element(By.ID, \"twotabsearchtextbox\")\n",
    "srch.send_keys('guitar')"
   ]
  },
  {
   "cell_type": "code",
   "execution_count": null,
   "id": "a74d9b31",
   "metadata": {},
   "outputs": [],
   "source": [
    "go=driver.find_element(By.XPATH,'//div[@class=\"nav-search-submit nav-sprite\"]//span')\n",
    "go.click()"
   ]
  },
  {
   "cell_type": "code",
   "execution_count": null,
   "id": "4b5ddcbd",
   "metadata": {},
   "outputs": [],
   "source": [
    "urls = []\n",
    "start = 0\n",
    "end = 3\n",
    "\n",
    "for page in range(start, end):\n",
    "   \n",
    "    elements = driver.find_elements(By.XPATH, '//a[@class=\"a-link-normal s-underline-text s-underline-link-text s-link-style a-text-normal\"]')\n",
    "    for element in elements:\n",
    "        urls.append(element.get_attribute('href'))\n",
    "    \n",
    "for url in urls:\n",
    "    print(url)"
   ]
  },
  {
   "cell_type": "code",
   "execution_count": null,
   "id": "b05826cf",
   "metadata": {},
   "outputs": [],
   "source": [
    "len(urls)"
   ]
  },
  {
   "cell_type": "code",
   "execution_count": null,
   "id": "98bd5465",
   "metadata": {},
   "outputs": [],
   "source": [
    "brand=[]\n",
    "for url in urls:\n",
    "    driver.get(url)\n",
    "    time.sleep(2)\n",
    "    try:\n",
    "        brands = driver.find_elements(By.XPATH,'//div[@class=\"a-section a-spacing-medium brand-snapshot-flex-row\"]/p/span')\n",
    "        for brand_element in brands:\n",
    "            brand.append(brand_element.text)\n",
    "    except NoSuchElementException:\n",
    "        brand.append('-')\n",
    "\n",
    "print(brand)   "
   ]
  },
  {
   "cell_type": "code",
   "execution_count": null,
   "id": "164603f1",
   "metadata": {},
   "outputs": [],
   "source": [
    "len(brand)"
   ]
  },
  {
   "cell_type": "markdown",
   "id": "f2a3ba98",
   "metadata": {},
   "source": [
    "# Q2"
   ]
  },
  {
   "cell_type": "code",
   "execution_count": null,
   "id": "040a8333",
   "metadata": {},
   "outputs": [],
   "source": [
    "\"brand name\", \"name of product\",\"price\",\"return/exchange\",\"expected delivery\",\"availability\""
   ]
  },
  {
   "cell_type": "code",
   "execution_count": null,
   "id": "8f271aca",
   "metadata": {},
   "outputs": [],
   "source": [
    "brand=[]\n",
    "product=[]\n",
    "price=[]\n",
    "rtex=[]\n",
    "deli=[]\n",
    "avail=[]\n",
    "purl=[]"
   ]
  },
  {
   "cell_type": "code",
   "execution_count": null,
   "id": "ae1983d9",
   "metadata": {},
   "outputs": [],
   "source": [
    "for url in urls:\n",
    "    driver.get(url)\n",
    "    \n",
    "    try:\n",
    "        brands = driver.find_elements(By.XPATH,'//div[@class=\"a-section a-spacing-medium brand-snapshot-flex-row\"]/p/span')\n",
    "        for brand_element in brands:\n",
    "            brand.append(brand_element.text)\n",
    "    except NoSuchElementException:\n",
    "        brand.append('-')\n",
    "        \n",
    "    try:\n",
    "        products = driver.find_elements(By.XPATH,'//span[@class=\"a-size-large product-title-word-break\"]')\n",
    "        for i in products:\n",
    "            PP = i.text\n",
    "            product.append(PP)\n",
    "    except NoSuchElementException:\n",
    "        product.append('-')\n",
    "        \n",
    "    try:\n",
    "        prices = driver.find_elements(By.XPATH,'//span[@class=\"a-price aok-align-center reinventPricePriceToPayMargin priceToPay\"]/span[2]/span[2]')\n",
    "        for i in prices:\n",
    "            P = i.text\n",
    "            price.append(P)\n",
    "    except NoSuchElementException:\n",
    "        price.append('-')\n",
    "        \n",
    "    try:\n",
    "        rtexs = driver.find_elements(By.XPATH,'//li[3][@class=\"a-carousel-card tw-scroll-carousel-element\"]/div/span/div[2]/span')\n",
    "        for i in rtexs:\n",
    "            r = i.text\n",
    "            rtex.append(r)\n",
    "    except NoSuchElementException:\n",
    "        rtex.append('-')\n",
    "        \n",
    "    try:\n",
    "        deliv= driver.find_elements(By.XPATH,'//div[@class=\"a-spacing-base\"]//span[@class=\"a-text-bold\"]')\n",
    "        for i in deliv:\n",
    "            d = i.text\n",
    "            deli.append(d)\n",
    "    except NoSuchElementException:\n",
    "        deli.append('-')\n",
    "        \n",
    "    try:\n",
    "        avails= driver.find_elements(By.XPATH,'//div[@class=\"a-section a-spacing-none a-spacing-top-micro }\"]')\n",
    "        for i in avails:\n",
    "            a = i.text\n",
    "            avail.append(a)\n",
    "    except NoSuchElementException:\n",
    "        avail.append('-')\n"
   ]
  },
  {
   "cell_type": "code",
   "execution_count": null,
   "id": "8ca4c739",
   "metadata": {},
   "outputs": [],
   "source": [
    "print(len(brand), len(product), len(price), len(rtex), len(deli), len(avail))"
   ]
  },
  {
   "cell_type": "code",
   "execution_count": null,
   "id": "c8ad9387",
   "metadata": {},
   "outputs": [],
   "source": [
    "df = pd.DataFrame({'BRAND': brand[:177], 'PRODUCT': product[:177], 'PRICE': price[:177], 'RETURN': rtex[:177], 'DELIVERY': deli[:177], 'AVAILABILITY': avail[:177]})\n",
    "df"
   ]
  },
  {
   "cell_type": "code",
   "execution_count": null,
   "id": "a6ab554e",
   "metadata": {},
   "outputs": [],
   "source": [
    "print(len(brand), len(product), len(price), len(rtex), len(deli), len(avail))"
   ]
  },
  {
   "cell_type": "markdown",
   "id": "e5649389",
   "metadata": {},
   "source": [
    "# Q3"
   ]
  },
  {
   "cell_type": "code",
   "execution_count": null,
   "id": "d28dc02f",
   "metadata": {},
   "outputs": [],
   "source": [
    "driver=webdriver.Chrome()\n",
    "driver.get(\"https://images.google.com/\")"
   ]
  },
  {
   "cell_type": "code",
   "execution_count": null,
   "id": "84128683",
   "metadata": {},
   "outputs": [],
   "source": [
    "slct=driver.find_element(By.CLASS_NAME,\"gLFyf\")\n",
    "slct.click()"
   ]
  },
  {
   "cell_type": "code",
   "execution_count": null,
   "id": "07b3134e",
   "metadata": {},
   "outputs": [],
   "source": [
    "srch = driver.find_element(By.CLASS_NAME,\"gLFyf\")\n",
    "srch.send_keys('fruits')"
   ]
  },
  {
   "cell_type": "code",
   "execution_count": null,
   "id": "dd71bfa7",
   "metadata": {},
   "outputs": [],
   "source": [
    "go=driver.find_element(By.CLASS_NAME,\"zgAlFc\")\n",
    "go.click()"
   ]
  },
  {
   "cell_type": "code",
   "execution_count": null,
   "id": "53d7b251",
   "metadata": {},
   "outputs": [],
   "source": [
    "for _ in range(20): # scroll 20 times till 100 images are obtained\n",
    "    driver.execute_script(\"window.scrollBy(0,100)\")\n",
    "images=driver.find_elements(By.CLASS_NAME,'rg_i.Q4LuWd')\n",
    "url=[]\n",
    "for i in images:\n",
    "    source=i.get_attribute('src')# src for image class\n",
    "    if source is not None:\n",
    "        if(source[0:4]=='http'):\n",
    "            url.append(source)\n",
    "for i in range(len(url)):\n",
    "    if i >10:\n",
    "        breakBy.XPATH,\n",
    "    print(\"dwld {0} of {1} img\".format(i,10))\n",
    "    response=requests.get(url[i])\n",
    "    file=open(r'C:\\Users\\LENOVO\\OneDrive\\Desktop\\data trained'+str(i)+\".jpg\",\"wb\")\n",
    "    file.write(response.content)"
   ]
  },
  {
   "cell_type": "markdown",
   "id": "486fc2e2",
   "metadata": {},
   "source": [
    "# Q4"
   ]
  },
  {
   "cell_type": "code",
   "execution_count": null,
   "id": "d7848255",
   "metadata": {},
   "outputs": [],
   "source": [
    "driver=webdriver.Chrome()\n",
    "driver.get(\"https://www.flipkart.com/\")"
   ]
  },
  {
   "cell_type": "code",
   "execution_count": null,
   "id": "abc28f7c",
   "metadata": {},
   "outputs": [],
   "source": [
    "slct=driver.find_element(By.CLASS_NAME,\"_2SmNnR\")\n",
    "slct.click()"
   ]
  },
  {
   "cell_type": "code",
   "execution_count": null,
   "id": "e613fc70",
   "metadata": {},
   "outputs": [],
   "source": [
    "srch = driver.find_element(By.CLASS_NAME,\"Pke_EE\")\n",
    "srch.send_keys('Oneplus Nord')"
   ]
  },
  {
   "cell_type": "code",
   "execution_count": null,
   "id": "30821799",
   "metadata": {},
   "outputs": [],
   "source": [
    "go=driver.find_element(By.CLASS_NAME,\"_2iLD__\")\n",
    "go.click()"
   ]
  },
  {
   "cell_type": "code",
   "execution_count": null,
   "id": "eab15e61",
   "metadata": {},
   "outputs": [],
   "source": [
    "# brand=[]\n",
    "name=[]\n",
    "col=[]\n",
    "ram=[]\n",
    "rom=[]\n",
    "Pcam=[]\n",
    "Scam=[]\n",
    "size=[]\n",
    "bat=[]\n",
    "P=[]\n",
    "url=[]"
   ]
  },
  {
   "cell_type": "code",
   "execution_count": null,
   "id": "a7c878d0",
   "metadata": {},
   "outputs": [],
   "source": [
    "names = driver.find_elements(By.XPATH,'//div[@class=\"_4rR01T\"]')\n",
    "for i in names:\n",
    "    bb = i.text\n",
    "    name.append(bb)\n",
    "\n",
    "colors = driver.find_elements(By.XPATH, '//div[@class=\"_4rR01T\"]')\n",
    "for i in colors:\n",
    "    cc = i.text\n",
    "    match = re.search(r'\\(([^,]+),', cc) \n",
    "    if match:\n",
    "        text = match.group(1).strip()\n",
    "        col.append(text)\n",
    "\n",
    "ra = driver.find_elements(By.XPATH, '//ul[@class=\"_1xgFaf\"]/li[1]')\n",
    "for i in ra:\n",
    "    rr = i.text\n",
    "    match = re.search(r'(\\d+\\s*GB\\s*RAM)', rr)\n",
    "    if match:\n",
    "        text = match.group(0).strip()\n",
    "        ram.append(text) \n",
    "\n",
    "ro = driver.find_elements(By.XPATH, '//ul[@class=\"_1xgFaf\"]/li[1]')\n",
    "for i in ro:\n",
    "    rrr = i  \n",
    "    match = re.search(r'(\\d+\\s*GB\\s*ROM)', rrr.text)\n",
    "    if match:\n",
    "        text = match.group(0).strip()\n",
    "        rom.append(text)  \n",
    "\n",
    "prim = driver.find_elements(By.XPATH,'//ul[@class=\"_1xgFaf\"]/li[3]')\n",
    "for i in prim:\n",
    "    pp = i.text\n",
    "    Pcam.append(pp)\n",
    "BAT = driver.find_elements(By.XPATH,'//ul[@class=\"_1xgFaf\"]/li[4]')\n",
    "for i in BAT:\n",
    "    bats = i.text\n",
    "    bat.append(bats)\n",
    "SIZ = driver.find_elements(By.XPATH,'//ul[@class=\"_1xgFaf\"]/li[2]')\n",
    "for i in SIZ:\n",
    "    siz = i.text\n",
    "    size.append(siz)\n",
    "P=[]\n",
    "PRI = driver.find_elements(By.XPATH,'//div[@class=\"_30jeq3 _1_WHN1\"]')\n",
    "for element in PRI:\n",
    "    pri = element.text\n",
    "    P.append(pri)\n"
   ]
  },
  {
   "cell_type": "code",
   "execution_count": null,
   "id": "d52a837b",
   "metadata": {},
   "outputs": [],
   "source": [
    "print(len(name),len(col),len(ram),len(rom),len(Pcam),len(bat),len(size),len(P))"
   ]
  },
  {
   "cell_type": "code",
   "execution_count": null,
   "id": "fae7db92",
   "metadata": {},
   "outputs": [],
   "source": [
    "df=pd.DataFrame({'NaME':name,'colour':col,'RAM':ram,'ROM':rom,'camera':Pcam,'Battery':bat,\"SIZE\":size,'Price':P})\n",
    "df"
   ]
  },
  {
   "cell_type": "code",
   "execution_count": null,
   "id": "7a737d8c",
   "metadata": {},
   "outputs": [],
   "source": [
    "path = 'Phoneoutput.csv'\n",
    "df.to_csv(path, index=True) \n",
    "print(f'DataFrame saved to ',path)"
   ]
  },
  {
   "cell_type": "markdown",
   "id": "5fc44876",
   "metadata": {},
   "source": [
    "# Q5"
   ]
  },
  {
   "cell_type": "code",
   "execution_count": null,
   "id": "b6e2df10",
   "metadata": {},
   "outputs": [],
   "source": [
    "driver=webdriver.Chrome()\n",
    "driver.get(\"https://www.google.com/maps/\")"
   ]
  },
  {
   "cell_type": "code",
   "execution_count": null,
   "id": "9af49a81",
   "metadata": {},
   "outputs": [],
   "source": [
    "srch = driver.find_element(By.ID,\"searchboxinput\")\n",
    "srch.send_keys('bangalore')"
   ]
  },
  {
   "cell_type": "code",
   "execution_count": null,
   "id": "76d5dc11",
   "metadata": {},
   "outputs": [],
   "source": [
    "go=driver.find_element(By.CLASS_NAME,\"pzfvzf\")\n",
    "go.click()"
   ]
  },
  {
   "cell_type": "code",
   "execution_count": null,
   "id": "1a4bd9ad",
   "metadata": {},
   "outputs": [],
   "source": [
    "try:\n",
    "    url = driver.current_url\n",
    "    print(\"Extracted URL:\", url)\n",
    "    lat_lng = re.findall(r'@([-0-9.]+),([-0-9.]+)', url)\n",
    "    if lat_lng:\n",
    "        latitude, longitude = lat_lng[0]\n",
    "        print(\"Latitude:\", latitude)\n",
    "        print(\"Longitude:\", longitude)\n",
    "except Exception as e:\n",
    "    print(\"An error occurred:\", str(e))"
   ]
  },
  {
   "cell_type": "markdown",
   "id": "021b649a",
   "metadata": {},
   "source": [
    "# Q6"
   ]
  },
  {
   "cell_type": "code",
   "execution_count": null,
   "id": "31979362",
   "metadata": {},
   "outputs": [],
   "source": [
    "driver=webdriver.Chrome()\n",
    "driver.get(\"https://www.digit.in/\")"
   ]
  },
  {
   "cell_type": "code",
   "execution_count": null,
   "id": "32797de1",
   "metadata": {},
   "outputs": [],
   "source": [
    "go=driver.find_element(By.XPATH,'//li[@class=\"rh-subitem-menus rh-megamenu menu-item menu-item-type-post_type_archive menu-item-object-top-products\"]')\n",
    "go.click()"
   ]
  },
  {
   "cell_type": "code",
   "execution_count": null,
   "id": "874247a2",
   "metadata": {},
   "outputs": [],
   "source": [
    "go=driver.find_element(By.XPATH,'//div[@class=\"main-side clearfix full_width\"]/div/div[2]/div[6]/p/a')\n",
    "go.click()"
   ]
  },
  {
   "cell_type": "code",
   "execution_count": null,
   "id": "278e4de1",
   "metadata": {},
   "outputs": [],
   "source": [
    "try:\n",
    "    name=[]\n",
    "    names = driver.find_elements(By.XPATH,'//h3[@class=\"font130 mt0 mb10 mobilesblockdisplay \"]')\n",
    "    for i in names:\n",
    "        bb = i.text\n",
    "        name.append(bb)\n",
    "except NoSuchElementException:\n",
    "    name.append('-')\n",
    "try:\n",
    "    os=[]\n",
    "    oss = driver.find_elements(By.XPATH,'//div[@class=\"woo_code_zone_loop clearbox\"]/div[1]/div/span[2]')\n",
    "    for i in oss:\n",
    "        ss = i.text\n",
    "        os.append(ss)\n",
    "except NoSuchElementException:\n",
    "    os.append('-')\n",
    "try:\n",
    "    dis=[]\n",
    "    disps = driver.find_elements(By.XPATH,'//div[@class=\"woo_code_zone_loop clearbox\"]/div[2]/div/span[2]')\n",
    "    for i in disps:\n",
    "        pp = i.text\n",
    "        dis.append(pp)\n",
    "except NoSuchElementException:\n",
    "    dis.append('-')\n",
    "try:\n",
    "    res=[]\n",
    "    ress = driver.find_elements(By.XPATH,'//div[@class=\"woo_code_zone_loop clearbox\"]/div[3]/div/span[2]')\n",
    "    for i in ress:\n",
    "        s = i.text\n",
    "        res.append(s)\n",
    "except NoSuchElementException:\n",
    "    res.append('-')\n",
    "\n",
    "try:\n",
    "    pro=[]\n",
    "    pros = driver.find_elements(By.XPATH,'//div[@class=\"woo_code_zone_loop clearbox\"]/div[3]/div/span[2]')\n",
    "    for i in pros:\n",
    "        b = i.text\n",
    "        pro.append(b)\n",
    "except NoSuchElementException:\n",
    "    pro.append('-')\n",
    "try:\n",
    "    des=[]\n",
    "    dess = driver.find_elements(By.XPATH,'//div[@class=\"cegg-no-top-margin cegg-list-logo-title\"]/a')\n",
    "    for i in dess:\n",
    "        d = i.text\n",
    "        des.append(d)\n",
    "except NoSuchElementException:\n",
    "    des.append('-')\n",
    "try:\n",
    "    pri=[]\n",
    "    pris = driver.find_elements(By.XPATH,'//div[@class=\"cegg-price cegg-price-color cegg-price-instock\"]')\n",
    "    for i in pris:\n",
    "        pr = i.text\n",
    "        pri.append(pr)\n",
    "except NoSuchElementException:\n",
    "    pri.append('-')\n"
   ]
  },
  {
   "cell_type": "code",
   "execution_count": null,
   "id": "e0dca918",
   "metadata": {},
   "outputs": [],
   "source": [
    "df = pd.DataFrame({'BRAND': name[:4], 'operating system': os[:4], 'PRICE': pri[:4], 'describe': des[:4], 'processor': pro[:4],'resolution':res[:4],'display size':dis[:4]})\n",
    "df"
   ]
  },
  {
   "cell_type": "markdown",
   "id": "28f611b1",
   "metadata": {},
   "source": [
    "# Q7"
   ]
  },
  {
   "cell_type": "code",
   "execution_count": null,
   "id": "1721d084",
   "metadata": {},
   "outputs": [],
   "source": [
    "driver=webdriver.Chrome()\n",
    "driver.get(\"https://www.forbes.com/\")"
   ]
  },
  {
   "cell_type": "code",
   "execution_count": null,
   "id": "d2929ce7",
   "metadata": {},
   "outputs": [],
   "source": [
    "slct=driver.find_element(By.XPATH,'//div[@class=\"_8FT-x3t4\"]/div')\n",
    "slct.click()"
   ]
  },
  {
   "cell_type": "code",
   "execution_count": null,
   "id": "467627d6",
   "metadata": {},
   "outputs": [],
   "source": [
    "go = driver.find_element(By.XPATH, '//li[@class=\"TjJgrPSg _2bNo56RE secondary\"]/a[1]')\n",
    "\n",
    "go.click()"
   ]
  },
  {
   "cell_type": "code",
   "execution_count": null,
   "id": "1e3b2a4d",
   "metadata": {},
   "outputs": [],
   "source": [
    "rank=[]\n",
    "name=[]\n",
    "net=[]\n",
    "AGE=[]\n",
    "cnt=[]\n",
    "src=[]\n",
    "ind=[]"
   ]
  },
  {
   "cell_type": "code",
   "execution_count": null,
   "id": "c82566df",
   "metadata": {},
   "outputs": [],
   "source": [
    "ranks = driver.find_elements(By.XPATH,'//div[@class=\"Table_rank___YBhk Table_dataCell__2QCve\"]')\n",
    "for i in ranks:\n",
    "    rk = i.text\n",
    "    rank.append(rk)\n",
    "\n",
    "\n",
    "names = driver.find_elements(By.XPATH,'//div[@class=\"TableRow_row__L-0Km\"]/div[2]')\n",
    "for i in names:\n",
    "    bb = i.text\n",
    "    name.append(bb)\n",
    "\n",
    "\n",
    "nets = driver.find_elements(By.XPATH,'//div[@class=\"TableRow_row__L-0Km\"]/div[3]')\n",
    "for i in nets:\n",
    "    n = i.text\n",
    "    net.append(n)\n",
    "\n",
    "ages = driver.find_elements(By.XPATH,'//div[@class=\"TableRow_row__L-0Km\"]/div[4]')\n",
    "for i in ages:\n",
    "    age = i.text\n",
    "    AGE.append(age)\n",
    "\n",
    "\n",
    "\n",
    "cnts = driver.find_elements(By.XPATH,'//div[@class=\"TableRow_row__L-0Km\"]/div[5]')\n",
    "for i in cnts:\n",
    "    c = i.text\n",
    "    cnt.append(c)\n",
    "\n",
    "srcs = driver.find_elements(By.XPATH,'//div[@class=\"TableRow_row__L-0Km\"]/div[6]')\n",
    "for i in srcs:\n",
    "    s = i.text\n",
    "    src.append(s)\n",
    "\n",
    "inds = driver.find_elements(By.XPATH,'//div[@class=\"TableRow_row__L-0Km\"]/div[7]')\n",
    "for i in inds:\n",
    "    indus = i.text\n",
    "    ind.append(indus)"
   ]
  },
  {
   "cell_type": "code",
   "execution_count": null,
   "id": "9f95519f",
   "metadata": {},
   "outputs": [],
   "source": [
    "df=pd.DataFrame({'RANK':rank,'NAME':name,'NET':net,'AGE':AGE,'COUNTRY':cnt,'SOURCE':src,\"INDUSTRY\":ind})\n",
    "df"
   ]
  },
  {
   "cell_type": "markdown",
   "id": "2ab8cf1d",
   "metadata": {},
   "source": [
    "# Q8"
   ]
  },
  {
   "cell_type": "code",
   "execution_count": null,
   "id": "d67f61ee",
   "metadata": {},
   "outputs": [],
   "source": [
    "driver=webdriver.Chrome()\n",
    "driver.get(\"https://www.youtube.com/\")\n",
    "slct=driver.find_element(By.CLASS_NAME,\"style-scope ytd-rich-grid-media\")\n",
    "slct.click()\n",
    "cnt=[]\n",
    "time=[]\n",
    "vote=[]\n",
    "for _ in range(1000): \n",
    "    driver.execute_script(\"window.scrollBy(0,1000)\")\n",
    "cnts = driver.find_elements(By.XPATH,'//div[@class=\"style-scope ytd-comment-renderer\"]/div[2]/div[2]')\n",
    "for i in cnts:\n",
    "    c = i.text\n",
    "    cnt.append(c)\n",
    "times = driver.find_elements(By.XPATH,'//div[@class=\"style-scope ytd-comment-renderer\"]/yt-formatted-string')\n",
    "for i in times:\n",
    "    lk = i.text\n",
    "    time.append(lk)\n",
    "votes = driver.find_elements(By.XPATH,'//div[@class=\"style-scope ytd-comment-action-buttons-renderer\"]/span[2]')\n",
    "for i in votes:\n",
    "    vt = i.text\n",
    "    vote.append(vt)"
   ]
  },
  {
   "cell_type": "code",
   "execution_count": null,
   "id": "cae47e08",
   "metadata": {},
   "outputs": [],
   "source": [
    "df=pd.DataFrame({'comment':cnt[:120],'uploaded':time[:120],'upvotes':vote[:120]})\n",
    "df"
   ]
  },
  {
   "cell_type": "markdown",
   "id": "99f13c4c",
   "metadata": {},
   "source": [
    "# Q9"
   ]
  },
  {
   "cell_type": "code",
   "execution_count": null,
   "id": "dc56cdf0",
   "metadata": {},
   "outputs": [],
   "source": [
    "hostel name, distance from city centre, ratings, total reviews, overall\n",
    "reviews, privates from price, dorms from price, facilities and property description."
   ]
  },
  {
   "cell_type": "code",
   "execution_count": null,
   "id": "900888d5",
   "metadata": {},
   "outputs": [],
   "source": [
    "driver=webdriver.Chrome()\n",
    "driver.get(\"https://www.hostelworld.com/\")"
   ]
  },
  {
   "cell_type": "code",
   "execution_count": null,
   "id": "ad3d6f4e",
   "metadata": {},
   "outputs": [],
   "source": [
    "slct=driver.find_element(By.CLASS_NAME,\"native-input\")\n",
    "slct.click()"
   ]
  },
  {
   "cell_type": "code",
   "execution_count": null,
   "id": "97aef573",
   "metadata": {},
   "outputs": [],
   "source": [
    "srch = driver.find_element(By.CLASS_NAME,\"native-input\")\n",
    "srch.send_keys('London')"
   ]
  },
  {
   "cell_type": "code",
   "execution_count": null,
   "id": "d9446217",
   "metadata": {},
   "outputs": [],
   "source": [
    "slct=driver.find_element(By.CLASS_NAME,\"item-text\")\n",
    "slct.click()"
   ]
  },
  {
   "cell_type": "code",
   "execution_count": null,
   "id": "8fdaaae4",
   "metadata": {},
   "outputs": [],
   "source": [
    "go = driver.find_element(By.XPATH, '//button[@class=\"btn-content medium-button icon-only\"]')\n",
    "go.click()"
   ]
  },
  {
   "cell_type": "code",
   "execution_count": null,
   "id": "12a47aef",
   "metadata": {},
   "outputs": [],
   "source": [
    "name=[]\n",
    "names = driver.find_elements(By.XPATH,'//div[@class=\"property-name\"]/span')\n",
    "for i in names:\n",
    "    n = i.text\n",
    "    name.append(n)\n",
    "dist=[]\n",
    "dists = driver.find_elements(By.XPATH,'//span[@class=\"distance-description\"]')\n",
    "for i in dists:\n",
    "    d = i.text\n",
    "    dist.append(d)\n",
    "rate=[]\n",
    "rates = driver.find_elements(By.XPATH,'//span[@class=\"number\"]')\n",
    "for i in rates:\n",
    "    r = i.text\n",
    "    rate.append(r)\n",
    "tot=[]\n",
    "tots = driver.find_elements(By.XPATH,'//div[@class=\"review\"]')\n",
    "for i in tots:\n",
    "    t = i.text\n",
    "    tot.append(t)\n",
    "pri=[]\n",
    "pris = driver.find_elements(By.XPATH,'//div[@class=\"accommodation-price unavailable\"]')\n",
    "for i in pris:\n",
    "    p = i.text\n",
    "    pri.append(p)"
   ]
  },
  {
   "cell_type": "code",
   "execution_count": null,
   "id": "200fa85e",
   "metadata": {},
   "outputs": [],
   "source": [
    "print(pri)"
   ]
  },
  {
   "cell_type": "code",
   "execution_count": null,
   "id": "40fd4052",
   "metadata": {},
   "outputs": [],
   "source": [
    "urls = []\n",
    "start = 0\n",
    "end = 1\n",
    "\n",
    "for page in range(start, end):\n",
    "   \n",
    "    elements = driver.find_elements(By.XPATH, '//a[@class=\"property-card-container horizontal\"]')\n",
    "    for element in elements:\n",
    "        urls.append(element.get_attribute('href'))\n",
    "for url in urls:\n",
    "    print(url)"
   ]
  },
  {
   "cell_type": "code",
   "execution_count": null,
   "id": "1bad08bf",
   "metadata": {},
   "outputs": [],
   "source": [
    "fac=[]\n",
    "for url in urls:\n",
    "    driver.get(url)\n",
    "    facs= driver.find_elements(By.XPATH,'//ul[@class=\"facilities\"]/li')\n",
    "    for i in facs:\n",
    "        bb= i.text\n",
    "        fac.append(bb)\n",
    "print(fac)"
   ]
  },
  {
   "cell_type": "code",
   "execution_count": null,
   "id": "f36ff581",
   "metadata": {},
   "outputs": [],
   "source": [
    "print(len(name),len(dist),len(rate),len(tot),len(pri),len(fac))"
   ]
  },
  {
   "cell_type": "code",
   "execution_count": null,
   "id": "fab0d7c4",
   "metadata": {},
   "outputs": [],
   "source": [
    "df = pd.DataFrame({\n",
    "    'name': name[:31],'distance': dist[:31],'rate': rate[:31],'totalreview': tot[:31],'price': pri[:31],'facility': fac[:31]})\n",
    "df"
   ]
  },
  {
   "cell_type": "code",
   "execution_count": null,
   "id": "ed9cb9a8",
   "metadata": {},
   "outputs": [],
   "source": []
  }
 ],
 "metadata": {
  "kernelspec": {
   "display_name": "Python 3 (ipykernel)",
   "language": "python",
   "name": "python3"
  },
  "language_info": {
   "codemirror_mode": {
    "name": "ipython",
    "version": 3
   },
   "file_extension": ".py",
   "mimetype": "text/x-python",
   "name": "python",
   "nbconvert_exporter": "python",
   "pygments_lexer": "ipython3",
   "version": "3.11.3"
  }
 },
 "nbformat": 4,
 "nbformat_minor": 5
}
