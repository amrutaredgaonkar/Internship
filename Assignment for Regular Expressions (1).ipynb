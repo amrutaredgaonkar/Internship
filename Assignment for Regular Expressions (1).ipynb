{
 "cells": [
  {
   "cell_type": "code",
   "execution_count": 2,
   "id": "a6375b13",
   "metadata": {},
   "outputs": [
    {
     "name": "stdout",
     "output_type": "stream",
     "text": [
      "Python:Exercises::PHP:exercises:\n"
     ]
    }
   ],
   "source": [
    "#Q 1 Write a Python program to replace all occurrences of a space, comma, or dot with a colon. o/p:Python:Exercises::PHP:exercises:\n",
    "import re\n",
    "txt=\"Python Exercises, PHP exercises.\"\n",
    "print(re.sub(r\"(\\s)|(,)|.$\",\":\",txt))"
   ]
  },
  {
   "cell_type": "code",
   "execution_count": 3,
   "id": "3f5f84a6",
   "metadata": {},
   "outputs": [
    {
     "name": "stdout",
     "output_type": "stream",
     "text": [
      "         SUMMARY\n",
      "0    hello world\n",
      "1     XXXXX test\n",
      "2  four five six\n"
     ]
    }
   ],
   "source": [
    "#Q 2  Create a dataframe using the dictionary below and remove everything (commas (,), !, XXXX, ;, etc.) from the columns except words.\n",
    "import pandas as pd\n",
    "data = {'SUMMARY': ['hello, world!', 'XXXXX test', '123four, five:; six...']}\n",
    "df = pd.DataFrame(data)\n",
    "df['SUMMARY'] = df['SUMMARY'].str.replace('[^a-zA-Z\\s]', '', regex=True)\n",
    "print(df)"
   ]
  },
  {
   "cell_type": "code",
   "execution_count": 4,
   "id": "95ecc97e",
   "metadata": {},
   "outputs": [
    {
     "name": "stdout",
     "output_type": "stream",
     "text": [
      "['Change', 'only', 'constant', 'thing']\n"
     ]
    }
   ],
   "source": [
    "#Q 3 Create a function in python to find all words that are at least 4 characters long in a string.\n",
    "#The use of the re.compile() method is mandatory.\n",
    "import re\n",
    "string='Change is the only constant thing'\n",
    "pattern=re.compile(r'\\b\\w{4,}\\b')\n",
    "result=re.findall(pattern,string)\n",
    "print(result)"
   ]
  },
  {
   "cell_type": "code",
   "execution_count": 5,
   "id": "2cc0a6c9",
   "metadata": {},
   "outputs": [
    {
     "name": "stdout",
     "output_type": "stream",
     "text": [
      "['Life', 'the', 'end', 'your', 'zone']\n"
     ]
    }
   ],
   "source": [
    "#Q 4 Create a function in python to find all three, four, and five character words in a string.\n",
    "#The use of the re.compile() method is mandatory.\n",
    "import re\n",
    "string = 'Life beguns at the end of your comfort zone'\n",
    "pattern =re.compile(r'\\b\\w{3,5}\\b')\n",
    "result= re.findall(pattern, string)\n",
    "print (result)"
   ]
  },
  {
   "cell_type": "code",
   "execution_count": 10,
   "id": "b68a3ee8",
   "metadata": {},
   "outputs": [
    {
     "name": "stdout",
     "output_type": "stream",
     "text": [
      "example .com\n",
      "hr@fliprobo .com\n",
      "github .com\n",
      "Hello Data Science World\n",
      "Data Scientist\n"
     ]
    }
   ],
   "source": [
    "#Q 5 Create a function in Python to remove the parenthesis in a list of strings. The use of the re.compile() method is mandatory.\n",
    "[\"example (.com)\", \"hr@fliprobo (.com)\", \"github (.com)\", \"Hello (Data Science World)\", \"Data (Scientist)\"]\n",
    "import re\n",
    "eg=[\"example (.com)\", \"hr@fliprobo (.com)\", \"github (.com)\", \"Hello (Data Science World)\", \"Data (Scientist)\"]\n",
    "pat = re.compile(r\"\\(|\\)\")\n",
    "for match in eg:\n",
    "    print(re.sub(pat,'',match))"
   ]
  },
  {
   "cell_type": "code",
   "execution_count": 11,
   "id": "455bf425",
   "metadata": {},
   "outputs": [
    {
     "name": "stdout",
     "output_type": "stream",
     "text": [
      "example \n",
      "hr@fliprobo \n",
      "github \n",
      "Hello \n",
      "Data \n"
     ]
    }
   ],
   "source": [
    "#Q 6  Write a python program to remove the parenthesis area from the text stored in the text file using Regular Expression.\n",
    "[\"example (.com)\", \"hr@fliprobo (.com)\", \"github (.com)\", \"Hello (Data Science World)\", \"Data (Scientist)\"]\n",
    "string= [\"example (.com)\", \"hr@fliprobo (.com)\", \"github (.com)\", \"Hello (Data Science World)\", \"Data (Scientist)\"]\n",
    "\n",
    "for i in string:\n",
    "    print(re.sub(r\"\\(.*?\\)\",'',i))"
   ]
  },
  {
   "cell_type": "code",
   "execution_count": 13,
   "id": "3f3e0e80",
   "metadata": {},
   "outputs": [
    {
     "name": "stdout",
     "output_type": "stream",
     "text": [
      "['Importance', 'Of', 'Regular', 'Expressions', 'In', 'Python']\n"
     ]
    }
   ],
   "source": [
    "#Q 7 Write a regular expression in Python to split a string into uppercase letters.\n",
    "\"ImportanceOfRegularExpressionsInPython\"\n",
    "string=\"ImportanceOfRegularExpressionsInPython\"\n",
    "res=re.findall(r\"([A-Z][^A-Z]*)\",string)\n",
    "print(res)\n"
   ]
  },
  {
   "cell_type": "code",
   "execution_count": 14,
   "id": "f0f93ee2",
   "metadata": {},
   "outputs": [
    {
     "name": "stdout",
     "output_type": "stream",
     "text": [
      "RegularExpression 1IsAn 2ImportantTopic 3InPython\n"
     ]
    }
   ],
   "source": [
    "#Q 8 Create a function in python to insert spaces between words starting with numbers.\n",
    "\"RegularExpression1IsAn2ImportantTopic3InPython\"\n",
    "string=\"RegularExpression1IsAn2ImportantTopic3InPython\"\n",
    "res=re.sub(r\"([a-zA-Z])(\\d)\",r\"\\1 \\2\",string)\n",
    "print(res)"
   ]
  },
  {
   "cell_type": "code",
   "execution_count": 15,
   "id": "8ce593f6",
   "metadata": {},
   "outputs": [
    {
     "name": "stdout",
     "output_type": "stream",
     "text": [
      " Regular Expression 1 Is An 2 Important Topic 3 In Python\n"
     ]
    }
   ],
   "source": [
    "#Q 9 Create a function in python to insert spaces between words starting with capital letters or with numbers.\n",
    "\"RegularExpression1IsAn2ImportantTopic3InPython\"\n",
    "string = \"RegularExpression1IsAn2ImportantTopic3InPython\"\n",
    "pat = r\"([A-Z]|\\d)\" \n",
    "result = re.sub(pat, r' \\1', string)\n",
    "print(result)"
   ]
  },
  {
   "cell_type": "code",
   "execution_count": 32,
   "id": "019de68a",
   "metadata": {},
   "outputs": [
    {
     "name": "stdout",
     "output_type": "stream",
     "text": [
      "       Country          Region  Happiness Rank  Happiness Score  \\\n",
      "0  Switzerland  Western Europe               1            7.587   \n",
      "1      Iceland  Western Europe               2            7.561   \n",
      "2      Denmark  Western Europe               3            7.527   \n",
      "3       Norway  Western Europe               4            7.522   \n",
      "4       Canada   North America               5            7.427   \n",
      "\n",
      "   Standard Error  Economy (GDP per Capita)   Family  \\\n",
      "0         0.03411                   1.39651  1.34951   \n",
      "1         0.04884                   1.30232  1.40223   \n",
      "2         0.03328                   1.32548  1.36058   \n",
      "3         0.03880                   1.45900  1.33095   \n",
      "4         0.03553                   1.32629  1.32261   \n",
      "\n",
      "   Health (Life Expectancy)  Freedom  Trust (Government Corruption)  \\\n",
      "0                   0.94143  0.66557                        0.41978   \n",
      "1                   0.94784  0.62877                        0.14145   \n",
      "2                   0.87464  0.64938                        0.48357   \n",
      "3                   0.88521  0.66973                        0.36503   \n",
      "4                   0.90563  0.63297                        0.32957   \n",
      "\n",
      "   Generosity  Dystopia Residual first_five_letters  \n",
      "0     0.29678            2.51738             Switze  \n",
      "1     0.43630            2.70201             Icelan  \n",
      "2     0.34139            2.49204             Denmar  \n",
      "3     0.34699            2.46531             Norway  \n",
      "4     0.45811            2.45176             Canada  \n"
     ]
    }
   ],
   "source": [
    "#Q 10 Use the github link below to read the data and create a dataframe. After creating the dataframe extract the first 6 letters of each country and store in the dataframe under a new column called first_five_letters.\n",
    "#https://raw.githubusercontent.com/dsrscientist/DSData/master/happiness_score_dataset.csv\n",
    "file_path = \"C:\\\\Users\\\\hp\\\\happiness_score_dataset.csv\"\n",
    "df = pd.read_csv(file_path)\n",
    "df['first_five_letters'] = df['Country'].str[:6]\n",
    "print(df.head())"
   ]
  },
  {
   "cell_type": "code",
   "execution_count": 34,
   "id": "fea45d71",
   "metadata": {},
   "outputs": [
    {
     "name": "stdout",
     "output_type": "stream",
     "text": [
      "Captian_Ms\n",
      "dhoni\n",
      "jerseyNo7\n",
      "retired_\n",
      "7\n"
     ]
    }
   ],
   "source": [
    "#Q 11 Write a Python program to match a string that contains only upper and lowercase letters, numbers, and underscores.\n",
    "txt = [\"Captian_Ms\", \"dhoni\", \"jerseyNo7\", \"retired_\", \"7\",\"Indian cricket\",]\n",
    "pat = r'^[a-zA-Z0-9_]*$'\n",
    "for i in txt:\n",
    "    if re.match(pat, i):\n",
    "        print(i)"
   ]
  },
  {
   "cell_type": "code",
   "execution_count": 35,
   "id": "5ee7a527",
   "metadata": {},
   "outputs": [
    {
     "name": "stdout",
     "output_type": "stream",
     "text": [
      "<re.Match object; span=(0, 2), match='9 '>\n",
      "None\n"
     ]
    }
   ],
   "source": [
    "#Q 12 Write a Python program where a string will start with a specific number. \n",
    "str=\"9 roll number is hold by Ritu\"\n",
    "print(re.match(r\"\\d.\",str))\n",
    "\n",
    "str1=\"roll number is hold by Ritu\"\n",
    "print(re.match(r\"\\d\",str1))"
   ]
  },
  {
   "cell_type": "code",
   "execution_count": 36,
   "id": "e6b60f9f",
   "metadata": {},
   "outputs": [
    {
     "name": "stdout",
     "output_type": "stream",
     "text": [
      "192.158.1.38\n"
     ]
    }
   ],
   "source": [
    "#Q 13 Write a Python program to remove leading zeros from an IP address\n",
    "string = '192.00158.10.3800'\n",
    "pattern= '[0]'\n",
    "result= re.sub(pattern,'', string)\n",
    "print (result)"
   ]
  },
  {
   "cell_type": "code",
   "execution_count": 51,
   "id": "210b48ea",
   "metadata": {},
   "outputs": [
    {
     "name": "stdout",
     "output_type": "stream",
     "text": [
      "August 15th 1947\n"
     ]
    }
   ],
   "source": [
    "#Q 14 Write a regular expression in python to match a date string in the form of Month name followed by day number and year stored in a text file.\n",
    "import re\n",
    "with open(\"text.txt\") as file:\n",
    "    for line in file:\n",
    "        date = re.findall(r'(\\w+\\s+\\d{1,2}(?:st|nd|rd|th) \\d{4})', line)\n",
    "        for i in date:\n",
    "            print(i)"
   ]
  },
  {
   "cell_type": "code",
   "execution_count": 52,
   "id": "d7608c84",
   "metadata": {},
   "outputs": [
    {
     "name": "stdout",
     "output_type": "stream",
     "text": [
      "['fox', 'dog']\n"
     ]
    }
   ],
   "source": [
    "#Q 15 Write a Python program to search some literals strings in a string. \n",
    "'The quick brown fox jumps over the lazy dog.'\n",
    "string='The quick brown fox jumps over the lazy dog.'\n",
    "pattern=r\"fox|dog|horse\"\n",
    "print(re.findall(pattern,string))"
   ]
  },
  {
   "cell_type": "code",
   "execution_count": 53,
   "id": "5a9ac072",
   "metadata": {},
   "outputs": [
    {
     "name": "stdout",
     "output_type": "stream",
     "text": [
      "<re.Match object; span=(16, 19), match='fox'>\n"
     ]
    }
   ],
   "source": [
    "#Q 16 Write a Python program to search a literals string in a string and also find the location within the original string where the pattern occurs\n",
    "'The quick brown fox jumps over the lazy dog.'\n",
    "string='The quick brown fox jumps over the lazy dog.'\n",
    "pattern= 'fox'\n",
    "result = re.finditer(pattern, string)\n",
    "for i in result:\n",
    "    print(i)\n"
   ]
  },
  {
   "cell_type": "code",
   "execution_count": 54,
   "id": "f40db18e",
   "metadata": {},
   "outputs": [
    {
     "name": "stdout",
     "output_type": "stream",
     "text": [
      "['exercises', 'exercises', 'exercises']\n"
     ]
    }
   ],
   "source": [
    "#Q 17 Write a Python program to find the substrings within a string.\n",
    "'Python exercises, PHP exercises, C# exercises'\n",
    "string = 'Python exercises, PHP exercises, C# exercises'\n",
    "pattern = 'exercises'\n",
    "result = re.findall(pattern, string)\n",
    "print (result)\n"
   ]
  },
  {
   "cell_type": "code",
   "execution_count": 55,
   "id": "ae311828",
   "metadata": {},
   "outputs": [
    {
     "name": "stdout",
     "output_type": "stream",
     "text": [
      "<re.Match object; span=(7, 16), match='exercises'>\n",
      "<re.Match object; span=(22, 31), match='exercises'>\n",
      "<re.Match object; span=(36, 45), match='exercises'>\n"
     ]
    }
   ],
   "source": [
    "#Q 18  Write a Python program to find the occurrence and position of the substrings within a string.\n",
    "txt='Python exercises, PHP exercises, C# exercises'\n",
    "pat='exercises'\n",
    "res=re.finditer(pat, txt)\n",
    "for i in res:\n",
    "    print(i)"
   ]
  },
  {
   "cell_type": "code",
   "execution_count": 56,
   "id": "4787e9d4",
   "metadata": {},
   "outputs": [
    {
     "name": "stdout",
     "output_type": "stream",
     "text": [
      "2023-5-12\n",
      "12-5-2023\n"
     ]
    }
   ],
   "source": [
    "#Q 19 Write a Python program to convert a date of yyyy-mm-dd format to dd-mm-yyyy format.\n",
    "yyyy_mm_dd='2023-5-12'\n",
    "yyyy, mm, dd= yyyy_mm_dd.split('-')\n",
    "date_converted= f\"{dd}-{mm}-{yyyy}\"\n",
    "print (yyyy_mm_dd)\n",
    "print (date_converted)"
   ]
  },
  {
   "cell_type": "code",
   "execution_count": 57,
   "id": "f733abee",
   "metadata": {},
   "outputs": [
    {
     "name": "stdout",
     "output_type": "stream",
     "text": [
      "['01.12', '145.8', '3.01', '27.25', '0.25']\n"
     ]
    }
   ],
   "source": [
    "#Q 20 Create a function in python to find all decimal numbers with a precision of 1 or 2 in a string. The use of the re.compile() method is mandatory.\n",
    "\"01.12 0132.123 2.31875 145.8 3.01 27.25 0.25\"\n",
    "string= '01.12 0132.123 2.31875 145.8 3.01 27.25 0.25'\n",
    "pattern=re.compile(r'\\b\\d+\\.\\d{1,2}\\b')\n",
    "result= pattern.findall (string)\n",
    "print (result)"
   ]
  },
  {
   "cell_type": "code",
   "execution_count": 58,
   "id": "64c5a3b8",
   "metadata": {},
   "outputs": [
    {
     "name": "stdout",
     "output_type": "stream",
     "text": [
      "7 START: 6 END: 7\n",
      "45 START: 14 END: 16\n"
     ]
    }
   ],
   "source": [
    "#Q 21 Write a Python program to separate and print the numbers and their position of a given string.\n",
    "string = 'Dhoni,7,Rohit,45'\n",
    "pattern = r'\\d+(\\.\\d{1,2})?'\n",
    "result = re.finditer(pattern, string)\n",
    "\n",
    "for find in result:\n",
    "    start = find.start()\n",
    "    end = find.end()\n",
    "    value= find.group()\n",
    "    print(value,\"START:\", start,\"END:\", end)"
   ]
  },
  {
   "cell_type": "code",
   "execution_count": 59,
   "id": "78fe0eb5",
   "metadata": {},
   "outputs": [
    {
     "name": "stdout",
     "output_type": "stream",
     "text": [
      "950\n"
     ]
    },
    {
     "data": {
      "text/plain": [
       "'950'"
      ]
     },
     "execution_count": 59,
     "metadata": {},
     "output_type": "execute_result"
    }
   ],
   "source": [
    "#Q 22 Write a regular expression in python program to extract maximum/largest numeric value from a string.\n",
    "'My marks in each semester are: 947, 896, 926, 524, 734, 950, 642'\n",
    "def numeric(str):\n",
    "    \n",
    "    pat=r'\\d+'\n",
    "    match=re.findall(pat,str)\n",
    "    if match:\n",
    "        maxi=max(match)\n",
    "        print(maxi)\n",
    "        return maxi\n",
    "    else:\n",
    "        return none\n",
    "str=\"My marks in each semester are: 947, 896, 926, 524, 734, 950, 642\"\n",
    "numeric(str)\n"
   ]
  },
  {
   "cell_type": "code",
   "execution_count": 61,
   "id": "8a9857ab",
   "metadata": {},
   "outputs": [
    {
     "name": "stdout",
     "output_type": "stream",
     "text": [
      "\"Regular Expression Is An Important Topic In Python\"\n"
     ]
    }
   ],
   "source": [
    "#Q 23 Create a function in python to insert spaces between words starting with capital letters.\n",
    "\"RegularExpressionIsAnImportantTopicInPython\"\n",
    "string='\"RegularExpressionIsAnImportantTopicInPython\"'\n",
    "pattern = r'([a-z])([A-Z])'\n",
    "result = re.sub(pattern, r'\\1 \\2',string)\n",
    "print(result)\n"
   ]
  },
  {
   "cell_type": "code",
   "execution_count": 63,
   "id": "e7f582da",
   "metadata": {},
   "outputs": [
    {
     "name": "stdout",
     "output_type": "stream",
     "text": [
      "['Have']\n"
     ]
    }
   ],
   "source": [
    "#Q 24 Python regex to find sequences of one upper case letter followed by lower case letters\n",
    "string= 'Have mentors and coaches as many as possible'\n",
    "pattern = r'[A-Z][a-z]+'\n",
    "result= re.findall (pattern, string)\n",
    "print (result)"
   ]
  },
  {
   "cell_type": "code",
   "execution_count": 64,
   "id": "38e4b26d",
   "metadata": {},
   "outputs": [
    {
     "name": "stdout",
     "output_type": "stream",
     "text": [
      "Hello hello world\n"
     ]
    }
   ],
   "source": [
    "#Q 25 Write a Python program to remove continuous duplicate words from Sentence using Regular Expression.\n",
    "\"Hello hello world world\"\n",
    "string= 'Hello hello world world'\n",
    "pattern = r'\\b(\\w+)(\\s+\\1)+\\b'\n",
    "result = re.sub(pattern, r'\\1', string)\n",
    "print (result)"
   ]
  },
  {
   "cell_type": "code",
   "execution_count": 65,
   "id": "beb2a50c",
   "metadata": {},
   "outputs": [
    {
     "name": "stdout",
     "output_type": "stream",
     "text": [
      "Locker number is AY6394\n"
     ]
    }
   ],
   "source": [
    "#Q 26 Write a python program using RegEx to accept string ending with alphanumeric character.\n",
    "string=['6394AY is locker number?','Locker number is AY6394']\n",
    "pattern=r'\\w$'\n",
    "for i in string:\n",
    "    if re.search(pattern, i):\n",
    "        print(i)"
   ]
  },
  {
   "cell_type": "code",
   "execution_count": 66,
   "id": "9459854a",
   "metadata": {},
   "outputs": [
    {
     "name": "stdout",
     "output_type": "stream",
     "text": [
      "['#Doltiwal', '#xyzabc', '#Demonetization']\n"
     ]
    }
   ],
   "source": [
    "#Q 27 Write a python program using RegEx to extract the hashtags.\n",
    "\"\"\"RT @kapil_kausik: #Doltiwal I mean #xyzabc is \"hurt\" by #Demonetization as the same has rendered USELESS <ed><U+00A0><U+00BD><ed><U+00B1><U+0089> \"acquired funds\" No wo\"\"\"\n",
    "string= 'RT @kapil_kausik: #Doltiwal I mean #xyzabc is \"hurt\" by #Demonetization as the same has rendered USELESS \"acquired funds\" No wo'\n",
    "pattern = r'#\\w+' \n",
    "result = re.findall(pattern, string)\n",
    "print (result)"
   ]
  },
  {
   "cell_type": "code",
   "execution_count": 69,
   "id": "db402c9a",
   "metadata": {},
   "outputs": [
    {
     "name": "stdout",
     "output_type": "stream",
     "text": [
      "@Jags123456 Bharat band on 28??<ed><ed>Those who  are protesting #demonetization  are all different party leaders\n"
     ]
    }
   ],
   "source": [
    "#Q 28 Write a python program using RegEx to remove <U+..> like symbols\n",
    "#Check the below sample text, there are strange symbols something of the sort <U+..> all over the place. You need to come up with a general Regex expression that will cover all such symbols.\n",
    "\"@Jags123456 Bharat band on 28??<ed><U+00A0><U+00BD><ed><U+00B8><U+0082>Those who  are protesting #demonetization  are all different party leaders\"\n",
    "txt=\"@Jags123456 Bharat band on 28??<ed><U+00A0><U+00BD><ed><U+00B8><U+0082>Those who  are protesting #demonetization  are all different party leaders\"\n",
    "pattern = r'<U\\+[\\dA-Za-z]+>'\n",
    "result = re.sub (pattern,'', txt)\n",
    "print (result)"
   ]
  },
  {
   "cell_type": "code",
   "execution_count": 70,
   "id": "81aa1ad8",
   "metadata": {},
   "outputs": [
    {
     "name": "stdout",
     "output_type": "stream",
     "text": [
      "('12', '09', '1992')\n",
      "('15', '12', '1999')\n"
     ]
    }
   ],
   "source": [
    "#Q 29 Write a python program to extract dates from the text stored in the text file.\n",
    "'Ron was born on 12-09-1992 and he was admitted to school 15-12-1999'\n",
    "with open(\"date.txt\") as file:\n",
    "    for line in file:\n",
    "        date = re.findall(r'(\\d{2})-(\\d{2})-(\\d{4})', line)\n",
    "        for i in date:\n",
    "            print(i)"
   ]
  },
  {
   "cell_type": "code",
   "execution_count": 73,
   "id": "4bab5d63",
   "metadata": {},
   "outputs": [
    {
     "name": "stdout",
     "output_type": "stream",
     "text": [
      " following example creates  ArrayList  a capacity   elements. 4 elements   added   ArrayList   ArrayList  trimmed accordingly.\n"
     ]
    }
   ],
   "source": [
    "#Q 30 Create a function in python to remove all words from a string of length between 2 and 4.\n",
    "#The use of the re.compile() method is mandatory.\n",
    "'The following example creates an ArrayList with a capacity of 50 elements. 4 elements are then added to the ArrayList and the ArrayList is trimmed accordingly'\n",
    "string= 'The following example creates an ArrayList with a capacity of 50 elements. 4 elements are then added to the ArrayList and the ArrayList is trimmed accordingly.'\n",
    "pattern = re.compile(r'\\b\\w{2,4}\\b')\n",
    "result = re.sub(pattern,'', string)\n",
    "print (result)"
   ]
  },
  {
   "cell_type": "code",
   "execution_count": null,
   "id": "e305dbc9",
   "metadata": {},
   "outputs": [],
   "source": []
  }
 ],
 "metadata": {
  "kernelspec": {
   "display_name": "Python 3 (ipykernel)",
   "language": "python",
   "name": "python3"
  },
  "language_info": {
   "codemirror_mode": {
    "name": "ipython",
    "version": 3
   },
   "file_extension": ".py",
   "mimetype": "text/x-python",
   "name": "python",
   "nbconvert_exporter": "python",
   "pygments_lexer": "ipython3",
   "version": "3.11.3"
  }
 },
 "nbformat": 4,
 "nbformat_minor": 5
}
